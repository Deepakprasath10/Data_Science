{
  "nbformat": 4,
  "nbformat_minor": 0,
  "metadata": {
    "colab": {
      "provenance": []
    },
    "kernelspec": {
      "name": "python3",
      "display_name": "Python 3"
    },
    "language_info": {
      "name": "python"
    }
  },
  "cells": [
    {
      "cell_type": "code",
      "execution_count": null,
      "metadata": {
        "colab": {
          "base_uri": "https://localhost:8080/"
        },
        "id": "kw-dR70-dnR1",
        "outputId": "deec50fe-a15d-4673-d2ce-95733eac9485"
      },
      "outputs": [
        {
          "output_type": "stream",
          "name": "stdout",
          "text": [
            "$20.00\n",
            "$20.00\n",
            "$175.48\n",
            "$149.99\n",
            "$119.00\n",
            "$278.12\n",
            "$81.83\n",
            "$297.98\n",
            "$139.41\n",
            "$214.95\n",
            "$175.48\n",
            "$169.99\n",
            "$297.98\n",
            "$239.99\n",
            "$319.95\n",
            "$199.99\n",
            "$408.00\n",
            "$199.99\n",
            "$359.99 to $758.00\n",
            "$275.99\n",
            "$84.40\n",
            "Tap item to see current priceSee price\n",
            "$319.95\n",
            "$189.99\n",
            "$185.38\n",
            "$194.95\n",
            "$89.64\n",
            "$239.99 to $567.00\n",
            "$275.99\n",
            "$325.00\n",
            "$175.48\n",
            "$149.99\n",
            "$185.38\n",
            "$234.13\n",
            "$150.46\n",
            "$215.27\n",
            "$389.99\n",
            "$229.99\n",
            "$303.33\n",
            "$275.99\n",
            "$239.00 to $339.00\n",
            "$249.99\n",
            "$188.78 to $372.78\n",
            "$210.68\n",
            "$269.99\n",
            "$168.78 to $336.78\n",
            "$390.95\n",
            "$97.19\n",
            "$192.95\n",
            "$239.95\n",
            "$164.95\n",
            "$169.95\n",
            "$563.00\n",
            "$435.00\n",
            "$173.90\n",
            "$189.95\n",
            "$214.99\n",
            "$174.95\n",
            "$189.99\n",
            "$169.99\n",
            "$343.95\n",
            "$159.99\n",
            "$439.00 to $659.00\n",
            "$297.98\n",
            "$109.00\n",
            "$288.01\n",
            "$255.00\n",
            "$399.99\n",
            "$87.32\n",
            "$32.99\n",
            "$203.59\n",
            "$55.00\n",
            "$375.00\n",
            "$225.00\n",
            "$158.99\n",
            "$122.00\n",
            "$174.59\n",
            "$644.00\n",
            "$599.00\n",
            "$159.95\n",
            "Tap item to see current priceSee price\n",
            "$311.99\n",
            "$369.00\n",
            "$560.99\n",
            "$154.95\n",
            "$299.01\n",
            "$245.51\n",
            "$182.15\n",
            "$390.00\n",
            "$539.00\n",
            "$299.99\n",
            "$203.00\n",
            "$199.00 to $259.00\n",
            "$234.13\n",
            "$199.99\n"
          ]
        }
      ],
      "source": [
        "import requests\n",
        "from bs4 import BeautifulSoup\n",
        "\n",
        "url = \"https://www.ebay.com/sch/i.html?_nkw=laptop\"\n",
        "html = requests.get(url).text\n",
        "soup = BeautifulSoup(html, 'html.parser')\n",
        "\n",
        "for price in soup.select('.s-item__price')[:100]:\n",
        "    print(price.text)"
      ]
    },
    {
      "cell_type": "code",
      "source": [
        "import requests\n",
        "from bs4 import BeautifulSoup\n",
        "import pandas as pd\n",
        "\n",
        "url = \"https://www.ebay.com/sch/i.html?_nkw=laptop\"\n",
        "headers = {\n",
        "    \"User-Agent\": \"Mozilla/5.0 (Windows NT 10.0; Win64; x64)\"\n",
        "}\n",
        "\n",
        "response = requests.get(url, headers=headers)\n",
        "soup = BeautifulSoup(response.text, \"html.parser\")\n",
        "\n",
        "data = []\n",
        "\n"
      ],
      "metadata": {
        "id": "rR2uc2oXd1Gc"
      },
      "execution_count": null,
      "outputs": []
    },
    {
      "cell_type": "code",
      "source": [
        "\n",
        "\n",
        "products = soup.select(\"li.s-item\")\n",
        "\n",
        "for product in products[:20]:  # Get first 20 products\n",
        "    title_tag = product.find(\"h3\", class_=\"s-item__title\")\n",
        "    # Fallback if title is None or contains \"New Listing\"\n",
        "    if not title_tag or \"New Listing\" in title_tag.text:\n",
        "        link_tag = product.find(\"a\", class_=\"s-item__link\")\n",
        "        title = link_tag.text.strip() if link_tag else \"N/A\"\n",
        "    else:\n",
        "        title = title_tag.text.strip()\n",
        "\n",
        "    price = product.find(\"span\", class_=\"s-item__price\")\n",
        "    shipping = product.find(\"span\", class_=\"s-item__shipping\")\n",
        "    Ratings = product.find(\"span\",class_=\"s-item__reviews-count\")\n",
        "\n",
        "    product_data = {\n",
        "        \"Title\": title,\n",
        "        \"Price\": price.text.strip() if price else \"N/A\",\n",
        "        \"Shipping\": shipping.text.strip() if shipping else \"N/A\",\n",
        "        \"Ratings\": Ratings.text.strip() if Ratings else \"N/A\"\n",
        "    }\n",
        "\n",
        "    data.append(product_data)\n",
        "\n",
        "df = pd.DataFrame(data)\n",
        "\n",
        "print(df.head(1000))"
      ],
      "metadata": {
        "id": "1s3czJCgd3RW",
        "outputId": "987b6874-340c-4dbc-fdfa-0feb3191cc25",
        "colab": {
          "base_uri": "https://localhost:8080/"
        }
      },
      "execution_count": null,
      "outputs": [
        {
          "output_type": "stream",
          "name": "stdout",
          "text": [
            "                                                Title               Price  \\\n",
            "0            Shop on eBayOpens in a new window or tab              $20.00   \n",
            "1            Shop on eBayOpens in a new window or tab              $20.00   \n",
            "2   15.6\" FHD DELL Gaming Laptop PC: Intel i7 Quad...             $390.95   \n",
            "3   SGIN Laptop 17.3 Inch computer with 4GB RAM 12...             $199.99   \n",
            "4   Dell Precision 15.6\" FHD Laptop Intel Xeon 3.8...             $278.12   \n",
            "5   15.6\" FHD DELL Gaming Laptop PC: Intel i7 Quad...             $343.95   \n",
            "6   Dell Laptop PC Computer 11.6\" Intel Celeron N4...              $81.83   \n",
            "7   HP X360 Touchscreen 2-in-1 Laptop PC 11.6\" Cor...             $139.41   \n",
            "8   HP ProBook 640 G5 Laptop 14\" Windows 11 Quad-C...             $175.48   \n",
            "9   New ListingHP Elitebook 840 G5 14\" Laptop Inte...             $130.00   \n",
            "10  HP EliteBook Laptop Light Gaming PC Core i5 16...             $297.98   \n",
            "11  HP ProBook 14\" HD Laptop Computer Intel i5 Up ...             $292.78   \n",
            "12  Dell 15.6\" Touchscreen Laptop Windows 11 Intel...             $510.00   \n",
            "13  HP Chromebook 11 G6 11.6\" Intel 2.40 GHz 4 GB ...              $69.99   \n",
            "14  HP EliteBook 14” 1080p Laptop AMD Ryzen 5 PRO ...             $267.18   \n",
            "15  HP ProBook G5 LAPTOP COMPUTER i5 8250U UP TO 3...             $179.99   \n",
            "16  SGIN 15.6'' Laptop 8GB RAM 512GB SSD with Inte...             $169.99   \n",
            "17  SGIN 17.3\" Laptop 8GB RAM 512GB SSD Intel Cele...             $239.99   \n",
            "18  HP EliteBook Laptop Light Gaming PC Core i5 16...             $297.98   \n",
            "19  Dell 15.6\" Touchscreen Laptop Windows 11 Intel...  $359.99 to $758.00   \n",
            "\n",
            "           Shipping Ratings  \n",
            "0               N/A     N/A  \n",
            "1               N/A     N/A  \n",
            "2               N/A     N/A  \n",
            "3     Free delivery     N/A  \n",
            "4     Free delivery     N/A  \n",
            "5               N/A     N/A  \n",
            "6     Free delivery     N/A  \n",
            "7     Free delivery     N/A  \n",
            "8     Free delivery     N/A  \n",
            "9   +$9.04 delivery     N/A  \n",
            "10              N/A     N/A  \n",
            "11              N/A     N/A  \n",
            "12              N/A     N/A  \n",
            "13              N/A     N/A  \n",
            "14              N/A     N/A  \n",
            "15              N/A     N/A  \n",
            "16              N/A     N/A  \n",
            "17              N/A     N/A  \n",
            "18    Free delivery     N/A  \n",
            "19    Free delivery     N/A  \n"
          ]
        }
      ]
    },
    {
      "cell_type": "code",
      "source": [
        "df.to_excel(\"ebay_products.xlsx\",index=False)\n",
        "print(\"Data saved to ebay_products.xlsx\")"
      ],
      "metadata": {
        "colab": {
          "base_uri": "https://localhost:8080/"
        },
        "id": "4Tbe16iQgto2",
        "outputId": "ffc1ebb4-e39c-42e9-8d44-ac5a3df5d241"
      },
      "execution_count": null,
      "outputs": [
        {
          "output_type": "stream",
          "name": "stdout",
          "text": [
            "Data saved to ebay_products.xlsx\n"
          ]
        }
      ]
    },
    {
      "cell_type": "code",
      "source": [
        "from google.colab import files\n",
        "files.download('ebay_products.xlsx')\n"
      ],
      "metadata": {
        "id": "QGbGKPXWhR5i",
        "outputId": "d8285963-d5ab-402f-f94c-568cdce13d5e",
        "colab": {
          "base_uri": "https://localhost:8080/"
        }
      },
      "execution_count": null,
      "outputs": [
        {
          "output_type": "display_data",
          "data": {
            "text/plain": [
              "<IPython.core.display.Javascript object>"
            ],
            "application/javascript": [
              "\n",
              "    async function download(id, filename, size) {\n",
              "      if (!google.colab.kernel.accessAllowed) {\n",
              "        return;\n",
              "      }\n",
              "      const div = document.createElement('div');\n",
              "      const label = document.createElement('label');\n",
              "      label.textContent = `Downloading \"${filename}\": `;\n",
              "      div.appendChild(label);\n",
              "      const progress = document.createElement('progress');\n",
              "      progress.max = size;\n",
              "      div.appendChild(progress);\n",
              "      document.body.appendChild(div);\n",
              "\n",
              "      const buffers = [];\n",
              "      let downloaded = 0;\n",
              "\n",
              "      const channel = await google.colab.kernel.comms.open(id);\n",
              "      // Send a message to notify the kernel that we're ready.\n",
              "      channel.send({})\n",
              "\n",
              "      for await (const message of channel.messages) {\n",
              "        // Send a message to notify the kernel that we're ready.\n",
              "        channel.send({})\n",
              "        if (message.buffers) {\n",
              "          for (const buffer of message.buffers) {\n",
              "            buffers.push(buffer);\n",
              "            downloaded += buffer.byteLength;\n",
              "            progress.value = downloaded;\n",
              "          }\n",
              "        }\n",
              "      }\n",
              "      const blob = new Blob(buffers, {type: 'application/binary'});\n",
              "      const a = document.createElement('a');\n",
              "      a.href = window.URL.createObjectURL(blob);\n",
              "      a.download = filename;\n",
              "      div.appendChild(a);\n",
              "      a.click();\n",
              "      div.remove();\n",
              "    }\n",
              "  "
            ]
          },
          "metadata": {}
        },
        {
          "output_type": "display_data",
          "data": {
            "text/plain": [
              "<IPython.core.display.Javascript object>"
            ],
            "application/javascript": [
              "download(\"download_ed0aae30-adce-4d2e-850e-2551b993d616\", \"ebay_products.xlsx\", 6033)"
            ]
          },
          "metadata": {}
        }
      ]
    }
  ]
}